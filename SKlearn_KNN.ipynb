{
 "cells": [
  {
   "cell_type": "code",
   "execution_count": 1,
   "id": "5f1fb6f0",
   "metadata": {},
   "outputs": [],
   "source": [
    "import numpy as np\n",
    "from sklearn import datasets\n",
    "from sklearn.model_selection import train_test_split\n",
    "from sklearn.neighbors import KNeighborsClassifier\n"
   ]
  },
  {
   "cell_type": "code",
   "execution_count": 2,
   "id": "9830cac4",
   "metadata": {},
   "outputs": [],
   "source": [
    "digit = datasets.load_digits()\n",
    "dig_data = digit.data\n",
    "dig_target = digit.target"
   ]
  },
  {
   "cell_type": "code",
   "execution_count": 3,
   "id": "b40929ec",
   "metadata": {
    "code_folding": []
   },
   "outputs": [],
   "source": [
    "# 分成訓練以及測試\n",
    "X_train, X_test, y_train, y_test = train_test_split(dig_data,dig_target,test_size = .1)"
   ]
  },
  {
   "cell_type": "code",
   "execution_count": 4,
   "id": "02e93eee",
   "metadata": {},
   "outputs": [
    {
     "data": {
      "text/plain": [
       "array([[ 0.,  0.,  3., ..., 15.,  6.,  0.],\n",
       "       [ 0.,  0.,  0., ...,  1.,  0.,  0.],\n",
       "       [ 0.,  0.,  8., ..., 14.,  1.,  0.],\n",
       "       ...,\n",
       "       [ 0.,  0.,  0., ...,  8.,  0.,  0.],\n",
       "       [ 0.,  0.,  0., ..., 15.,  4.,  0.],\n",
       "       [ 0.,  0.,  0., ..., 15., 15.,  0.]])"
      ]
     },
     "execution_count": 4,
     "metadata": {},
     "output_type": "execute_result"
    }
   ],
   "source": [
    "X_train"
   ]
  },
  {
   "cell_type": "code",
   "execution_count": 6,
   "id": "01511fb3",
   "metadata": {},
   "outputs": [
    {
     "name": "stdout",
     "output_type": "stream",
     "text": [
      "[4 3 6 8 1 2 7 1 2 1 6 1 0 3 9 3 8 5 7 3 5 6 5 0 4 5 4 2 6 6 9 7 8 9 2 8 3\n",
      " 6 5 0 9 9 7 6 9 5 3 6 9 5 2 1 8 8 1 2 7 9 4 8 7 3 2 7 4 8 1 1 3 3 4 4 5 4\n",
      " 4 8 1 7 6 8 4 7 1 2 5 2 8 1 4 5 2 8 1 6 3 4 6 6 9 4 5 3 9 1 4 1 1 8 3 7 0\n",
      " 5 9 6 3 8 4 3 1 0 6 3 5 0 2 6 0 3 5 7 6 4 6 8 5 5 4 3 6 5 8 5 6 4 4 9 1 0\n",
      " 3 1 8 0 2 8 0 2 6 7 7 2 2 8 7 4 0 7 6 8 1 7 0 0 0 9 8 4 7 8 8 4 9 9 1 7 2\n",
      " 2 2 1 9 8 8 9 5 5 8 9 5 1 6 6 9 0 0 8 4 4 4 0 1 0 5 7 8 5 0 9 6 1 0 2 1 3\n",
      " 5 5 9 2 1 5 6 4 7 8 0 4 3 3 0 8 5 7 9 6 6 0 0 0 9 2 3 9 8 6 6 2 1 2 9 9 5\n",
      " 0 1 5 5 5 5 0 1 5 1 2 1 1 8 6 3 5 9 0 0 7 0 9 1 4 6 4 7 7 9 0 1 5 0 0 2 0\n",
      " 4 6 8 0 9 6 5 8 6 2 4 4 9 4 0 9 0 9 8 7 2 7 0 1 7 5 3 2 5 0 1 9 7 2 6 5 7\n",
      " 1 6 2 6 5 3 9 5 2 1 7 8 3 0 7 3 2 7 5 8 1 4 3 7 3 5 1 3 1 7 8 4 1 2 1 0 8\n",
      " 7 0 4 0 8 0 2 8 6 8 0 1 1 5 9 5 9 5 0 6 7 1 1 2 1 4 5 7 6 0 2 8 1 1 6 0 9\n",
      " 2 9 7 3 5 1 3 9 5 5 5 1 4 4 6 4 7 7 5 3 5 0 4 3 3 7 6 4 7 5 2 7 1 7 5 8 6\n",
      " 2 4 2 6 4 9 5 8 5 3 2 9 7 4 8 6 3 2 2 9 1 1 5 6 6 3 5 3 9 5 1 6 2 9 9 4 0\n",
      " 7 3 0 2 8 2 3 6 5 2 9 7 9 3 8 9 3 4 5 4 1 7 1 1 3 4 8 6 1 3 6 1 3 5 3 2 9\n",
      " 7 9 3 0 7 4 0 3 0 1 0 3 0 0 6 2 2 1 6 3 7 4]\n",
      "[4 3 6 8 1 2 7 1 2 1 6 1 0 3 9 3 8 5 7 3 5 6 5 0 4 5 4 2 6 6 9 7 8 9 2 8 3\n",
      " 6 3 0 9 9 7 6 9 5 3 6 9 5 2 1 8 8 1 2 7 9 4 8 7 3 2 7 4 8 1 1 3 3 4 4 5 4\n",
      " 4 8 1 7 6 8 4 7 1 2 5 2 8 1 4 5 2 8 1 6 3 4 6 6 9 4 5 3 9 1 4 1 1 8 3 7 0\n",
      " 5 9 6 3 8 4 3 1 0 6 3 5 0 2 6 0 3 5 7 6 4 6 8 5 5 4 3 6 5 8 5 6 4 4 9 1 0\n",
      " 3 1 8 0 2 8 0 2 6 7 8 2 2 8 7 4 0 7 6 8 1 7 0 0 0 9 8 4 7 8 8 4 9 9 1 7 2\n",
      " 2 2 1 9 8 8 9 5 5 8 9 5 1 6 6 9 0 0 8 4 4 4 0 1 0 5 7 8 5 0 9 6 1 0 2 1 3\n",
      " 5 5 9 2 1 5 6 4 7 8 0 4 3 3 0 8 5 7 9 6 6 0 0 0 9 2 3 9 8 6 6 2 1 2 9 9 5\n",
      " 0 1 5 5 5 5 0 1 5 1 2 1 1 8 6 3 5 9 0 0 7 0 9 1 4 6 4 7 7 9 0 1 5 0 0 2 0\n",
      " 4 6 8 0 9 6 9 8 6 2 4 4 9 4 0 9 0 9 8 7 2 7 0 1 7 5 3 2 5 0 1 9 7 2 6 5 7\n",
      " 1 6 2 6 5 3 9 5 2 1 7 8 3 0 7 3 2 7 5 8 1 4 3 7 3 5 1 3 1 4 8 4 1 2 1 0 8\n",
      " 7 0 4 0 8 0 2 8 6 8 0 1 1 5 9 5 9 5 0 6 7 1 1 2 1 4 5 7 6 0 2 8 6 1 6 0 9\n",
      " 2 9 7 3 5 1 3 9 5 5 5 1 4 4 6 4 7 7 5 3 5 0 4 3 3 2 6 4 7 5 2 7 1 7 5 8 6\n",
      " 2 4 2 6 4 9 5 8 5 3 2 9 7 4 8 6 3 2 2 9 1 1 5 6 6 3 5 3 9 5 1 6 2 9 9 4 0\n",
      " 7 3 0 2 8 2 3 6 5 2 9 7 9 3 8 9 3 4 5 4 1 7 1 1 3 4 8 5 1 3 6 1 3 5 3 2 9\n",
      " 7 9 3 0 7 4 0 3 0 1 0 3 0 0 6 2 2 1 6 3 7 4]\n"
     ]
    },
    {
     "data": {
      "text/plain": [
       "0.987037037037037"
      ]
     },
     "execution_count": 6,
     "metadata": {},
     "output_type": "execute_result"
    }
   ],
   "source": [
    "knn = KNeighborsClassifier()\n",
    "knn.fit(X_train,y_train)\n",
    "print(knn.predict(X_test))\n",
    "print(y_test)\n",
    "sum(knn.predict(X_test)==y_test)/len(y_test)"
   ]
  },
  {
   "cell_type": "code",
   "execution_count": null,
   "id": "c60e6ca3",
   "metadata": {},
   "outputs": [],
   "source": []
  }
 ],
 "metadata": {
  "kernelspec": {
   "display_name": "Python 3 (ipykernel)",
   "language": "python",
   "name": "python3"
  },
  "language_info": {
   "codemirror_mode": {
    "name": "ipython",
    "version": 3
   },
   "file_extension": ".py",
   "mimetype": "text/x-python",
   "name": "python",
   "nbconvert_exporter": "python",
   "pygments_lexer": "ipython3",
   "version": "3.7.9"
  },
  "varInspector": {
   "cols": {
    "lenName": 16,
    "lenType": 16,
    "lenVar": 40
   },
   "kernels_config": {
    "python": {
     "delete_cmd_postfix": "",
     "delete_cmd_prefix": "del ",
     "library": "var_list.py",
     "varRefreshCmd": "print(var_dic_list())"
    },
    "r": {
     "delete_cmd_postfix": ") ",
     "delete_cmd_prefix": "rm(",
     "library": "var_list.r",
     "varRefreshCmd": "cat(var_dic_list()) "
    }
   },
   "types_to_exclude": [
    "module",
    "function",
    "builtin_function_or_method",
    "instance",
    "_Feature"
   ],
   "window_display": false
  }
 },
 "nbformat": 4,
 "nbformat_minor": 5
}
